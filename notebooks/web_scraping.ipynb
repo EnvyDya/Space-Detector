{
 "cells": [
  {
   "cell_type": "markdown",
   "metadata": {},
   "source": [
    "# Import modules"
   ]
  },
  {
   "cell_type": "code",
   "execution_count": 109,
   "metadata": {},
   "outputs": [],
   "source": [
    "import re\n",
    "import requests\n",
    "from bs4 import BeautifulSoup"
   ]
  },
  {
   "cell_type": "code",
   "execution_count": 64,
   "metadata": {},
   "outputs": [],
   "source": [
    "site = 'https://esahubble.org/images/'\n",
    "\n",
    "response = requests.get(site)\n",
    "\n",
    "soup = BeautifulSoup(response.text, 'html.parser')\n",
    "img_tags = soup.find_all('img')\n",
    "\n",
    "#urls = [img['src'].split('?')[0] for img in img_tags if img[\"src\"].__contains__(\"?\")]\n",
    "urls = [img[\"src\"] for img in img_tags]"
   ]
  },
  {
   "cell_type": "code",
   "execution_count": 81,
   "metadata": {},
   "outputs": [
    {
     "data": {
      "text/plain": [
       "['https://esahubble.org/images/heic2017a/',\n",
       " 'https://esahubble.org/images/heic2007a/',\n",
       " 'https://esahubble.org/images/heic1509a/',\n",
       " 'https://esahubble.org/images/heic1501a/',\n",
       " 'https://esahubble.org/images/potw2050a/',\n",
       " 'https://esahubble.org/images/heic2018b/',\n",
       " 'https://esahubble.org/images/heic0715a/',\n",
       " 'https://esahubble.org/images/heic1608a/',\n",
       " 'https://esahubble.org/images/potw1345a/',\n",
       " 'https://esahubble.org/images/heic1307a/',\n",
       " 'https://esahubble.org/images/heic0817a/',\n",
       " 'https://esahubble.org/images/heic0406a/',\n",
       " 'https://esahubble.org/images/potw2049a/',\n",
       " 'https://esahubble.org/images/opo0328a/',\n",
       " 'https://esahubble.org/images/heic1917a/',\n",
       " 'https://esahubble.org/images/heic0702a/',\n",
       " 'https://esahubble.org/images/heic0515a/',\n",
       " 'https://esahubble.org/images/heic1808a/',\n",
       " 'https://esahubble.org/images/potw1811a/',\n",
       " 'https://esahubble.org/images/heic0910h/',\n",
       " 'https://esahubble.org/images/heic0601a/',\n",
       " 'https://esahubble.org/images/heic0514a/',\n",
       " 'https://esahubble.org/images/heic0506a/',\n",
       " 'https://esahubble.org/images/heic0506b/',\n",
       " 'https://esahubble.org/images/opo0511a/',\n",
       " 'https://esahubble.org/images/heic0503a/',\n",
       " 'https://esahubble.org/images/opo0501a/',\n",
       " 'https://esahubble.org/images/heic0206c/',\n",
       " 'https://esahubble.org/images/heic0206b/',\n",
       " 'https://esahubble.org/images/heic0206a/',\n",
       " 'https://esahubble.org/images/heic0109a/',\n",
       " 'https://esahubble.org/images/opo0006a/',\n",
       " 'https://esahubble.org/images/opo9828c/',\n",
       " 'https://esahubble.org/images/heic2105a/',\n",
       " 'https://esahubble.org/images/heic1302a/',\n",
       " 'https://esahubble.org/images/heic1105a/',\n",
       " 'https://esahubble.org/images/heic1104a/',\n",
       " 'https://esahubble.org/images/heic1007a/',\n",
       " 'https://esahubble.org/images/heic0910s/',\n",
       " 'https://esahubble.org/images/heic0910i/',\n",
       " 'https://esahubble.org/images/heic0905a/',\n",
       " 'https://esahubble.org/images/heic0719a/',\n",
       " 'https://esahubble.org/images/heic0707a/',\n",
       " 'https://esahubble.org/images/heic0706a/',\n",
       " 'https://esahubble.org/images/opo0624a/',\n",
       " 'https://esahubble.org/images/heic0604a/',\n",
       " 'https://esahubble.org/images/heic0602a/',\n",
       " 'https://esahubble.org/images/opo0028a/',\n",
       " 'https://esahubble.org/images/opo9941a/']"
      ]
     },
     "execution_count": 81,
     "metadata": {},
     "output_type": "execute_result"
    }
   ],
   "source": [
    "images = soup.find_all(\"script\")[0].text.split(\"url\")[1:]\n",
    "urls = [site+url.split(\"'\")[1].split(\"/images/\")[1] for url in images if url.__contains__(\"jpg\")]\n",
    "urls"
   ]
  },
  {
   "cell_type": "code",
   "execution_count": 104,
   "metadata": {},
   "outputs": [
    {
     "data": {
      "text/plain": [
       "(['https://cdn.spacetelescope.org/archives/images/thumb700x/heic2017a.jpg',\n",
       "  'https://cdn.spacetelescope.org/archives/images/thumb700x/heic2007a.jpg',\n",
       "  'https://cdn.spacetelescope.org/archives/images/thumb700x/heic1509a.jpg',\n",
       "  'https://cdn.spacetelescope.org/archives/images/thumb700x/heic1501a.jpg',\n",
       "  'https://cdn.spacetelescope.org/archives/images/thumb700x/potw2050a.jpg',\n",
       "  'https://cdn.spacetelescope.org/archives/images/thumb700x/heic2018b.jpg',\n",
       "  'https://cdn.spacetelescope.org/archives/images/thumb700x/heic0715a.jpg',\n",
       "  'https://cdn.spacetelescope.org/archives/images/thumb700x/heic1608a.jpg',\n",
       "  'https://cdn.spacetelescope.org/archives/images/thumb700x/potw1345a.jpg',\n",
       "  'https://cdn.spacetelescope.org/archives/images/thumb700x/heic1307a.jpg'],\n",
       " ['Solar System',\n",
       "  'Nebulae',\n",
       "  'Star Clusters',\n",
       "  'Nebulae',\n",
       "  'Cosmology',\n",
       "  'Galaxies',\n",
       "  'Star Clusters',\n",
       "  'Nebulae',\n",
       "  'Galaxies',\n",
       "  'Nebulae'])"
      ]
     },
     "execution_count": 104,
     "metadata": {},
     "output_type": "execute_result"
    }
   ],
   "source": [
    "img_urls = []\n",
    "img_categ = []\n",
    "for url in urls[:10]:\n",
    "    response = requests.get(url)\n",
    "    soup = BeautifulSoup(response.text, 'html.parser')\n",
    "    img_tags = soup.find_all('img')[2][\"src\"]\n",
    "    categorie = soup.find(\"div\", {\"class\": \"object-info\"}).find_all(\"a\")[-1].text\n",
    "    img_urls.append(img_tags)\n",
    "    img_categ.append(categorie)\n",
    "img_urls, img_categ"
   ]
  },
  {
   "cell_type": "code",
   "execution_count": 112,
   "metadata": {},
   "outputs": [],
   "source": [
    "for url in img_urls:\n",
    "    filename = re.search(r'/([\\w_-]+[.](jpg|gif|png))$', url)\n",
    "    if not filename:\n",
    "         print(\"Regex didn't match with the url: {}\".format(url))\n",
    "         continue\n",
    "    with open(\"../data/\"+filename.group(1), 'wb') as f:\n",
    "        if 'http' not in url:\n",
    "            # sometimes an image source can be relative \n",
    "            # if it is provide the base url which also happens \n",
    "            # to be the site variable atm. \n",
    "            url = '{}{}'.format(site, url)\n",
    "        response = requests.get(url)\n",
    "        f.write(response.content)"
   ]
  }
 ],
 "metadata": {
  "kernelspec": {
   "display_name": "mlops",
   "language": "python",
   "name": "python3"
  },
  "language_info": {
   "codemirror_mode": {
    "name": "ipython",
    "version": 3
   },
   "file_extension": ".py",
   "mimetype": "text/x-python",
   "name": "python",
   "nbconvert_exporter": "python",
   "pygments_lexer": "ipython3",
   "version": "3.11.5"
  }
 },
 "nbformat": 4,
 "nbformat_minor": 2
}
